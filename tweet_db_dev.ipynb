{
 "cells": [
  {
   "cell_type": "markdown",
   "id": "dbe592e0-bb2f-4e07-8b09-cb43111c7a16",
   "metadata": {},
   "source": [
    "Here is the new TweetDB object\n",
    "\n",
    "This round, I focused on making it easier to pull and then update the tweets that I have stored for users. \n",
    "I have 1000 of the top users for Eth, python, and bitcoin hive clusters. and their latest 10 tweets\n",
    "\n",
    "**important**: the `db/tweet_db_1-eth-python-bitcoin-external-quote-bank.json` file is the most up to date and has all the tweets and info I need to start working on frontend stuff a bit more... \n",
    "\n",
    "* up next: add in an \"update_db\" to match the init_db, that pulls in the new tweets for each user\n",
    "* **write tests for this tweetDB object so I don't forget how it works**\n",
    "* pull new tweets for each user every day, then update the extneral-quote-bank feed\n",
    "\n",
    "Problems:\n",
    "I got wreckless and tried to pull mad tweets for every influencer in a cluster... this wasted all of my tweets for the Cathreadral app. Luckily, my alt account is still available and I am using that now\n",
    "\n",
    "* up next: now that i have the external tweet feed stuff, I need to get a frontend up and running that matches my figma\n",
    "\n",
    "* I also want to think about different algorithms, and possible just show tweets instead of worrying about links and stuff \n",
    "\n",
    "* "
   ]
  },
  {
   "cell_type": "code",
   "execution_count": 1,
   "id": "5716c8b1-267f-40c8-9f0e-1b986612d2d9",
   "metadata": {},
   "outputs": [],
   "source": [
    "from flask_app.tweet_db import TweetDB\n",
    "\n",
    "tdb = TweetDB(\"db/tweet_db_1-eth-python-bitcoin-external-quote-bank.json\")"
   ]
  },
  {
   "cell_type": "code",
   "execution_count": 4,
   "id": "e42674d6-a428-43a6-bfe9-6252a9a21a98",
   "metadata": {},
   "outputs": [],
   "source": [
    "tdb.save(\"db/tweet_db_1-eth-python-bitcoin-external-quote-bank.json\")"
   ]
  },
  {
   "cell_type": "code",
   "execution_count": 15,
   "id": "2a0c2062-4717-41dc-bd77-76c1052d81b8",
   "metadata": {},
   "outputs": [
    {
     "data": {
      "text/plain": [
       "1001"
      ]
     },
     "execution_count": 15,
     "metadata": {},
     "output_type": "execute_result"
    }
   ],
   "source": [
    "tdb2 = TweetDB(\"db/tweet_db_1-eth-python-bitcoin-external-quote-bank.json\")\n",
    "\n",
    "len(tdb2._db[\"Python\"])"
   ]
  },
  {
   "cell_type": "code",
   "execution_count": null,
   "id": "2c08b964-eff2-4470-889d-f6ad6af63878",
   "metadata": {},
   "outputs": [],
   "source": [
    "tdb._db[\"Ethereum\"][\"external_url_quote_tweet_bank\"][\"1499089118252445702\"][\"ref_tweet_data\"]"
   ]
  },
  {
   "cell_type": "code",
   "execution_count": null,
   "id": "76b91ac1-ade8-4cc0-951c-628ec30c39db",
   "metadata": {},
   "outputs": [],
   "source": [
    "import requests\n",
    "import os\n",
    "from dotenv import load_dotenv\n",
    "\n",
    "load_dotenv()\n",
    "\n",
    "BORG_HEADER = {\"Authorization\": f\"Token {os.environ['BORG_API_KEY']}\"}\n",
    "BORG_BASE_URL = \"https://api.borg.id\"\n",
    "\n",
    "identity_id = \"twitter:4108026892\"\n",
    "r = requests.get(f\"{BORG_BASE_URL}/influence/influencers/{identity_id}/\", headers=BORG_HEADER)\n",
    "\n",
    "r.json().keys()"
   ]
  },
  {
   "cell_type": "code",
   "execution_count": null,
   "id": "3b0cb7e6-f721-44be-987e-5ce987d0f1aa",
   "metadata": {},
   "outputs": [],
   "source": [
    "\n",
    "tweet_id = \"1498868589016801283\"\n",
    "r = requests.get(f\"{BORG_BASE_URL}/providers/twitter/tweets/{tweet_id}/\", headers=BORG_HEADER)\n",
    "\n",
    "r.json()"
   ]
  },
  {
   "cell_type": "code",
   "execution_count": null,
   "id": "681317e4-de93-4da8-baf0-098afbf26480",
   "metadata": {},
   "outputs": [],
   "source": []
  }
 ],
 "metadata": {
  "kernelspec": {
   "display_name": "Python 3 (ipykernel)",
   "language": "python",
   "name": "python3"
  },
  "language_info": {
   "codemirror_mode": {
    "name": "ipython",
    "version": 3
   },
   "file_extension": ".py",
   "mimetype": "text/x-python",
   "name": "python",
   "nbconvert_exporter": "python",
   "pygments_lexer": "ipython3",
   "version": "3.10.0"
  }
 },
 "nbformat": 4,
 "nbformat_minor": 5
}
