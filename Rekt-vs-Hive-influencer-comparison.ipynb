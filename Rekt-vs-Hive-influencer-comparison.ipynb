{
 "cells": [
  {
   "cell_type": "markdown",
   "id": "6cbc7d21-fbef-4b6a-8e3b-a63b66ea9a49",
   "metadata": {},
   "source": [
    "## Rekt vs. Hive\n",
    "This notebook has some code to investigate the difference between Rekt users and Hive influencers. \n",
    "\n",
    "We wanted to understand why our articles first approach (based on quote tweets) in the Hive Ethereum cluster doesn't return the same feed that Rekt has. \n",
    "\n"
   ]
  },
  {
   "cell_type": "markdown",
   "id": "5e826172-618c-4470-bfb2-cd0bb2a44778",
   "metadata": {},
   "source": [
    "### Compare Users/Influencers\n",
    "The feed is based on the users you use to curate the feed. So, the first step is to compare the users from each cluster\n",
    "\n",
    "**note:** for rekt, the users are listed in the [crypto parlor](https://feed.rekt.news/parlor). I was too lazy to figure out how to make python scroll the page to load all the influencers, so I manually scrolled then copy/pasted the html from the page to a local file to load them in. "
   ]
  },
  {
   "cell_type": "code",
   "execution_count": 5,
   "id": "8f45cd08-f7ff-4aae-a716-f1cbb5be04c9",
   "metadata": {},
   "outputs": [
    {
     "name": "stdout",
     "output_type": "stream",
     "text": [
      "260\n"
     ]
    }
   ],
   "source": [
    "import os\n",
    "from bs4 import BeautifulSoup\n",
    "import requests \n",
    "from dotenv import load_dotenv\n",
    "\n",
    "load_dotenv()\n",
    "\n",
    "## Loading Rekt Users\n",
    "\n",
    "# local file with rekt hmtl of top 260 users in crypto parlor\n",
    "with open(\"/home/nick/Documents/GitHub/Tweetscape/rekt_parlor.html\", \"r\") as f:\n",
    "    html = f.read()\n",
    "\n",
    "soup = BeautifulSoup(html, 'html.parser')\n",
    "rekt_users = []\n",
    "for i in soup.find_all(\"a\"):\n",
    "    rekt_users.append(i.text[1:].lower()) # \n",
    "print(len(rekt_users))\n",
    "rekt_set = set(rekt_users[:250]) # grabbing top 250 influencers (to match same number as Hive"
   ]
  },
  {
   "cell_type": "code",
   "execution_count": 9,
   "id": "2f5aac1c-53c9-42f4-b076-fcbf368c8ade",
   "metadata": {
    "scrolled": true,
    "tags": []
   },
   "outputs": [
    {
     "name": "stdout",
     "output_type": "stream",
     "text": [
      "requesting page 0 for Ethereum cluster\n",
      "requesting page 1 for Ethereum cluster\n",
      "requesting page 2 for Ethereum cluster\n",
      "requesting page 3 for Ethereum cluster\n",
      "requesting page 4 for Ethereum cluster\n",
      "hit max page\n",
      "250\n"
     ]
    }
   ],
   "source": [
    "## Loading Hive Eth influencers from api \n",
    "\n",
    "BORG_HEADER = {\"Authorization\": f\"Token {os.environ['BORG_API_KEY']}\"}\n",
    "BORG_BASE_URL = \"https://api.borg.id\"\n",
    "\n",
    "def get_all_cluster_influencers(\n",
    "    cluster_name, sort_direction=\"desc\", sort_by=\"score\", max_page=None\n",
    "):\n",
    "    more_influencers = True\n",
    "    cur_page = 0\n",
    "    while more_influencers:\n",
    "        print(f\"requesting page {cur_page} for {cluster_name} cluster\")\n",
    "        res = requests.get(\n",
    "            f\"{BORG_BASE_URL}/influence/clusters/{cluster_name}/influencers/?page={cur_page}&sort_by={sort_by}&sort_direction={sort_direction}\",\n",
    "            headers=BORG_HEADER,\n",
    "        )\n",
    "        if res.status_code != 200:\n",
    "            raise Exception(f\"request failed: {res.text}\")\n",
    "        if \"has_more\" not in res.json():\n",
    "            more_influencers = False\n",
    "        for i_influencer in res.json()[\"influencers\"]:\n",
    "            yield i_influencer\n",
    "        cur_page += 1\n",
    "        if max_page and max_page <= cur_page:\n",
    "            more_influencers = False\n",
    "            print(\"hit max page\")\n",
    "\n",
    "hive_names = get_all_cluster_influencers(\"Ethereum\",sort_direction=\"desc\", sort_by=\"score\", max_page=5)\n",
    "hive_names = [x[\"social_account\"][\"social_account\"][\"screen_name\"].lower() for x in hive_names]\n",
    "print(len(hive_names))\n",
    "hive_set = set(hive_names)"
   ]
  },
  {
   "cell_type": "code",
   "execution_count": 11,
   "id": "81975d0a-5826-4009-ae21-d7bfd032b71f",
   "metadata": {},
   "outputs": [
    {
     "name": "stdout",
     "output_type": "stream",
     "text": [
      "9 users shared between rekt_top50 and hive_top50\n",
      "\n",
      "vitalikbuterin, hive_rank: 0, rekt_rank: 0, diff=0\n",
      "tayvano_, hive_rank: 41, rekt_rank: 42, diff=1\n",
      "samczsun, hive_rank: 20, rekt_rank: 17, diff=3\n",
      "ethereumjoseph, hive_rank: 21, rekt_rank: 26, diff=5\n",
      "sassal0x, hive_rank: 34, rekt_rank: 29, diff=5\n",
      "danrobinson, hive_rank: 27, rekt_rank: 16, diff=11\n",
      "gakonst, hive_rank: 4, rekt_rank: 23, diff=19\n",
      "haydenzadams, hive_rank: 22, rekt_rank: 3, diff=19\n",
      "hasufl, hive_rank: 24, rekt_rank: 1, diff=23\n"
     ]
    }
   ],
   "source": [
    "## Compare Top 50 Influencers from Each Cluster\n",
    "rekt_top50 = set(rekt_users[:50])\n",
    "hive_top50 = set(hive_names[:50])\n",
    "inter = hive_top50.intersection(rekt_top50)\n",
    "\n",
    "print(f\"{len(inter)} users shared between rekt_top50 and hive_top50\\n\")\n",
    "\n",
    "ranks = []\n",
    "for i in inter:\n",
    "    hive_rank = hive_names.index(i)\n",
    "    rekt_rank = rekt_users.index(i)\n",
    "    ranks.append((i, hive_rank, rekt_rank, abs(hive_rank-rekt_rank)))\n",
    "    \n",
    "# print a list showing (user, hive_rank, rekt_rank, the absolute value difference between the two)\n",
    "for i, hive_rank, rekt_rank, diff in sorted(ranks, key=lambda x: x[3]):\n",
    "    print(f\"{i}, hive_rank: {hive_rank}, rekt_rank: {rekt_rank}, diff={abs(hive_rank-rekt_rank)}\")"
   ]
  },
  {
   "cell_type": "markdown",
   "id": "d13cf20d-9dec-4a0f-b1a6-1749c9836ebb",
   "metadata": {},
   "source": [
    "From the list above, we can see that the only influencer in the top 50 that rekt and hive agree on is VitalikButerin.  \n",
    "\n",
    "The most striking differences to me are hasufl, gakonst, and haydenzadams, because they are all highly ranked in one cluster, but ranked back in the 20's in the other cluster. \n",
    "\n",
    "It is clear that Hive and Rekt are using a different approach to rank their users. \n",
    "\n",
    "This is further shown in the list below, which is the same comparison over the top 250 users. A good example is `zhusu`, whose hive_rank is 188, but rekt_rank is 4... that's a pretty massive disparity. \n",
    "\n"
   ]
  },
  {
   "cell_type": "code",
   "execution_count": 12,
   "id": "5291938b-53f2-43c8-b148-27129c70a16f",
   "metadata": {},
   "outputs": [
    {
     "name": "stdout",
     "output_type": "stream",
     "text": [
      "101 users shared between rekt and hive\n",
      "\n",
      "nanexcool, hive_rank: 58, rekt_rank: 58, diff=0\n",
      "vitalikbuterin, hive_rank: 0, rekt_rank: 0, diff=0\n",
      "tayvano_, hive_rank: 41, rekt_rank: 42, diff=1\n",
      "samczsun, hive_rank: 20, rekt_rank: 17, diff=3\n",
      "sassal0x, hive_rank: 34, rekt_rank: 29, diff=5\n",
      "ethereumjoseph, hive_rank: 21, rekt_rank: 26, diff=5\n",
      "andrewdarmacap, hive_rank: 220, rekt_rank: 214, diff=6\n",
      "simondlr, hive_rank: 119, rekt_rank: 127, diff=8\n",
      "evabeylin, hive_rank: 63, rekt_rank: 74, diff=11\n",
      "danrobinson, hive_rank: 27, rekt_rank: 16, diff=11\n",
      "ameensol, hive_rank: 39, rekt_rank: 51, diff=12\n",
      "brockjelmore, hive_rank: 166, rekt_rank: 183, diff=17\n",
      "gakonst, hive_rank: 4, rekt_rank: 23, diff=19\n",
      "haydenzadams, hive_rank: 22, rekt_rank: 3, diff=19\n",
      "owocki, hive_rank: 65, rekt_rank: 85, diff=20\n",
      "bantg, hive_rank: 55, rekt_rank: 34, diff=21\n",
      "hasufl, hive_rank: 24, rekt_rank: 1, diff=23\n",
      "sunnya97, hive_rank: 101, rekt_rank: 126, diff=25\n",
      "zooko, hive_rank: 52, rekt_rank: 79, diff=27\n",
      "blockgeekdima, hive_rank: 79, rekt_rank: 110, diff=31\n",
      "econoar, hive_rank: 35, rekt_rank: 66, diff=31\n",
      "bertcmiller, hive_rank: 111, rekt_rank: 148, diff=37\n",
      "tarunchitra, hive_rank: 68, rekt_rank: 30, diff=38\n",
      "austingriffith, hive_rank: 18, rekt_rank: 56, diff=38\n",
      "zmanian, hive_rank: 67, rekt_rank: 109, diff=42\n",
      "iamdcinvestor, hive_rank: 82, rekt_rank: 39, diff=43\n",
      "el33th4xor, hive_rank: 110, rekt_rank: 64, diff=46\n",
      "trustlessstate, hive_rank: 113, rekt_rank: 67, diff=46\n",
      "koeppelmann, hive_rank: 50, rekt_rank: 96, diff=46\n",
      "0xtuba, hive_rank: 162, rekt_rank: 115, diff=47\n",
      "_anishagnihotri, hive_rank: 191, rekt_rank: 140, diff=51\n",
      "tzhen, hive_rank: 134, rekt_rank: 187, diff=53\n",
      "pet3rpan_, hive_rank: 160, rekt_rank: 102, diff=58\n",
      "mikedemarais, hive_rank: 112, rekt_rank: 53, diff=59\n",
      "viktorbunin, hive_rank: 175, rekt_rank: 237, diff=62\n",
      "josephdelong, hive_rank: 31, rekt_rank: 93, diff=62\n",
      "ricburton, hive_rank: 132, rekt_rank: 65, diff=67\n",
      "vladzamfir, hive_rank: 19, rekt_rank: 86, diff=67\n",
      "ercwl, hive_rank: 122, rekt_rank: 54, diff=68\n",
      "_dave__white_, hive_rank: 206, rekt_rank: 137, diff=69\n",
      "_prestwich, hive_rank: 29, rekt_rank: 98, diff=69\n",
      "ryansadams, hive_rank: 118, rekt_rank: 48, diff=70\n",
      "hudsonjameson, hive_rank: 1, rekt_rank: 71, diff=70\n",
      "jinglejamop, hive_rank: 59, rekt_rank: 132, diff=73\n",
      "avsa, hive_rank: 45, rekt_rank: 118, diff=73\n",
      "aeyakovenko, hive_rank: 187, rekt_rank: 114, diff=73\n",
      "bneiluj, hive_rank: 151, rekt_rank: 77, diff=74\n",
      "gavofyork, hive_rank: 46, rekt_rank: 125, diff=79\n",
      "evan_van_ness, hive_rank: 8, rekt_rank: 88, diff=80\n",
      "antiprosynth, hive_rank: 70, rekt_rank: 152, diff=82\n",
      "_charlienoyes, hive_rank: 143, rekt_rank: 59, diff=84\n",
      "balajis, hive_rank: 91, rekt_rank: 5, diff=86\n",
      "ashleighschap, hive_rank: 179, rekt_rank: 91, diff=88\n",
      "runekek, hive_rank: 181, rekt_rank: 92, diff=89\n",
      "juanbenet, hive_rank: 149, rekt_rank: 240, diff=91\n",
      "stanikulechov, hive_rank: 98, rekt_rank: 6, diff=92\n",
      "phildaian, hive_rank: 12, rekt_rank: 106, diff=94\n",
      "danfinlay, hive_rank: 72, rekt_rank: 167, diff=95\n",
      "matthuang, hive_rank: 127, rekt_rank: 32, diff=95\n",
      "mihailobjelic, hive_rank: 77, rekt_rank: 175, diff=98\n",
      "afdudley0, hive_rank: 104, rekt_rank: 204, diff=100\n",
      "pedrouid, hive_rank: 126, rekt_rank: 227, diff=101\n",
      "nicksdjohnson, hive_rank: 7, rekt_rank: 108, diff=101\n",
      "0xmaki, hive_rank: 145, rekt_rank: 43, diff=102\n",
      "fehrsam, hive_rank: 105, rekt_rank: 2, diff=103\n",
      "tetranode, hive_rank: 204, rekt_rank: 101, diff=103\n",
      "kaiynne, hive_rank: 123, rekt_rank: 19, diff=104\n",
      "cyounessi1, hive_rank: 209, rekt_rank: 105, diff=104\n",
      "ljxie, hive_rank: 120, rekt_rank: 11, diff=109\n",
      "transmissions11, hive_rank: 83, rekt_rank: 196, diff=113\n",
      "jillrgunter, hive_rank: 219, rekt_rank: 103, diff=116\n",
      "lawmaster, hive_rank: 140, rekt_rank: 21, diff=119\n",
      "defi_dad, hive_rank: 183, rekt_rank: 61, diff=122\n",
      "spencernoon, hive_rank: 133, rekt_rank: 10, diff=123\n",
      "camirusso, hive_rank: 155, rekt_rank: 31, diff=124\n",
      "scott_lew_is, hive_rank: 182, rekt_rank: 57, diff=125\n",
      "cburniske, hive_rank: 136, rekt_rank: 7, diff=129\n",
      "iiterature, hive_rank: 228, rekt_rank: 97, diff=131\n",
      "karl_dot_tech, hive_rank: 16, rekt_rank: 150, diff=134\n",
      "arjunblj, hive_rank: 153, rekt_rank: 18, diff=135\n",
      "peter_szilagyi, hive_rank: 2, rekt_rank: 138, diff=136\n",
      "drakefjustin, hive_rank: 5, rekt_rank: 144, diff=139\n",
      "0xstark, hive_rank: 42, rekt_rank: 181, diff=139\n",
      "phabcd, hive_rank: 107, rekt_rank: 247, diff=140\n",
      "trent_vanepps, hive_rank: 11, rekt_rank: 154, diff=143\n",
      "twobitidiot, hive_rank: 156, rekt_rank: 9, diff=147\n",
      "laurashin, hive_rank: 174, rekt_rank: 25, diff=149\n",
      "thegostep, hive_rank: 80, rekt_rank: 235, diff=155\n",
      "andy8052, hive_rank: 218, rekt_rank: 62, diff=156\n",
      "rleshner, hive_rank: 184, rekt_rank: 15, diff=169\n",
      "hosseeb, hive_rank: 249, rekt_rank: 75, diff=174\n",
      "neerajka, hive_rank: 212, rekt_rank: 35, diff=177\n",
      "lrettig, hive_rank: 62, rekt_rank: 239, diff=177\n",
      "timbeiko, hive_rank: 9, rekt_rank: 188, diff=179\n",
      "jessewldn, hive_rank: 217, rekt_rank: 38, diff=179\n",
      "deaneigenmann, hive_rank: 36, rekt_rank: 217, diff=181\n",
      "zhusu, hive_rank: 188, rekt_rank: 4, diff=184\n",
      "epolynya, hive_rank: 49, rekt_rank: 241, diff=192\n",
      "dannyryan, hive_rank: 6, rekt_rank: 210, diff=204\n",
      "jchervinsky, hive_rank: 244, rekt_rank: 37, diff=207\n",
      "kylesamani, hive_rank: 245, rekt_rank: 28, diff=217\n"
     ]
    }
   ],
   "source": [
    "## Number of Shared Influencers in top 250\n",
    "inter_all = hive_set.intersection(rekt_set)\n",
    "print(f\"{len(inter_all)} users shared between rekt and hive\\n\")\n",
    "\n",
    "ranks_all = []\n",
    "for i in inter_all:\n",
    "    hive_rank = hive_names.index(i)\n",
    "    rekt_rank = rekt_users.index(i)\n",
    "    ranks_all.append((i, hive_rank, rekt_rank, abs(hive_rank-rekt_rank)))\n",
    "    \n",
    "# print a list showing (user, hive_rank, rekt_rank, the absolute value difference between the two)\n",
    "for i, hive_rank, rekt_rank, diff in sorted(ranks_all, key=lambda x: x[3]):\n",
    "    print(f\"{i}, hive_rank: {hive_rank}, rekt_rank: {rekt_rank}, diff={abs(hive_rank-rekt_rank)}\")"
   ]
  },
  {
   "cell_type": "code",
   "execution_count": null,
   "id": "a50d488d-d4fa-4926-935a-0bdf197c92d5",
   "metadata": {},
   "outputs": [],
   "source": []
  }
 ],
 "metadata": {
  "kernelspec": {
   "display_name": "Python 3 (ipykernel)",
   "language": "python",
   "name": "python3"
  },
  "language_info": {
   "codemirror_mode": {
    "name": "ipython",
    "version": 3
   },
   "file_extension": ".py",
   "mimetype": "text/x-python",
   "name": "python",
   "nbconvert_exporter": "python",
   "pygments_lexer": "ipython3",
   "version": "3.10.0"
  }
 },
 "nbformat": 4,
 "nbformat_minor": 5
}
