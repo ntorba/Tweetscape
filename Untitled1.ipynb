{
 "cells": [
  {
   "cell_type": "code",
   "execution_count": 1,
   "id": "30d79408-7994-422a-a97d-4f7ba53ad9e2",
   "metadata": {},
   "outputs": [],
   "source": [
    "from flask_app.tweet_db import TweetDB\n",
    "\n",
    "tweet_db = TweetDB(\"db/tweet_db_1-eth-python-bitcoin-external-quote-bank2.json\")\n"
   ]
  },
  {
   "cell_type": "code",
   "execution_count": 5,
   "id": "b0b8d672-5d85-4030-9e73-c1ac9b76354a",
   "metadata": {},
   "outputs": [],
   "source": [
    "ref_tweet_id = \"1499068917947510788\"\n",
    "current_cluster = \"Python\" \n",
    "\n",
    "obj = tweet_db._db[current_cluster][\"external_url_quote_tweet_bank\"][ref_tweet_id]\n",
    "\n"
   ]
  },
  {
   "cell_type": "code",
   "execution_count": 7,
   "id": "fac50c3e-4bdb-49f9-920e-e906f681057d",
   "metadata": {},
   "outputs": [
    {
     "data": {
      "text/plain": [
       "{'public_metrics': {'retweet_count': 859,\n",
       "  'reply_count': 1055,\n",
       "  'like_count': 2923,\n",
       "  'quote_count': 4700},\n",
       " 'created_at': '2022-03-02T17:07:36.000Z',\n",
       " 'text': 'Bandcamp is joining Epic Games! Read more here: https://t.co/dvLEhURZYG https://t.co/4t1MRvugmG',\n",
       " 'author_id': '16705752',\n",
       " 'id': '1499068917947510788'}"
      ]
     },
     "execution_count": 7,
     "metadata": {},
     "output_type": "execute_result"
    }
   ],
   "source": [
    "obj[\"ref_tweet_data\"]"
   ]
  },
  {
   "cell_type": "code",
   "execution_count": 9,
   "id": "f4af8614-ca99-4c92-a59f-0fde185c2bc5",
   "metadata": {},
   "outputs": [
    {
     "data": {
      "text/plain": [
       "'https://twitter.com/username/status/1499074546380328963'"
      ]
     },
     "execution_count": 9,
     "metadata": {},
     "output_type": "execute_result"
    }
   ],
   "source": [
    "obj[\"vote_tweets\"][0][\"tweet_link\"]"
   ]
  },
  {
   "cell_type": "code",
   "execution_count": null,
   "id": "646d6069-8855-4098-a23a-ed480be1dcd3",
   "metadata": {},
   "outputs": [],
   "source": []
  }
 ],
 "metadata": {
  "kernelspec": {
   "display_name": "Python 3 (ipykernel)",
   "language": "python",
   "name": "python3"
  },
  "language_info": {
   "codemirror_mode": {
    "name": "ipython",
    "version": 3
   },
   "file_extension": ".py",
   "mimetype": "text/x-python",
   "name": "python",
   "nbconvert_exporter": "python",
   "pygments_lexer": "ipython3",
   "version": "3.10.0"
  }
 },
 "nbformat": 4,
 "nbformat_minor": 5
}
