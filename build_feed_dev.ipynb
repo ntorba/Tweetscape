{
 "cells": [
  {
   "cell_type": "code",
   "execution_count": 1,
   "id": "c25de4c7-ec1f-4411-8cb8-c6f9dbad4d05",
   "metadata": {},
   "outputs": [],
   "source": [
    "from flask_app.build_feed import FeedDB\n",
    "\n",
    "db = FeedDB(\"db/test_db2.json\")\n",
    "# db.fetch_tweets(\"Ethereum\", influencer_pages=range(6))\n",
    "# feed = db.build_external_url_feed(\"Ethereum\")\n",
    "# db.save()"
   ]
  },
  {
   "cell_type": "code",
   "execution_count": 7,
   "id": "e065c872-e285-471e-a516-b6f38a275c8b",
   "metadata": {},
   "outputs": [
    {
     "data": {
      "text/plain": [
       "12"
      ]
     },
     "execution_count": 8,
     "metadata": {},
     "output_type": "execute_result"
    }
   ],
   "source": [
    "db._db[\"Ethereum\"][\"external_url_feed\"]"
   ]
  },
  {
   "cell_type": "code",
   "execution_count": null,
   "id": "22881e89-dc7a-423b-b3a7-58ce1d1e46e8",
   "metadata": {},
   "outputs": [],
   "source": [
    "from flask_app.build_feed import filter_tweets_for_external_urls\n",
    "\n",
    "\n",
    "filter_tweets_for_external_urls(db._db[\"Ethereum\"][\"all_feed_tweets\"][:200])"
   ]
  },
  {
   "cell_type": "code",
   "execution_count": null,
   "id": "91276f49-c9dd-4560-ba51-3e2adfbafb5d",
   "metadata": {},
   "outputs": [],
   "source": [
    "db._db[\"Ethereum\"][\"all_feed_tweets\"][4][\"referenced_tweets\"]"
   ]
  },
  {
   "cell_type": "code",
   "execution_count": null,
   "id": "d1222806-e5e4-4efd-a5a8-717fd644ca1f",
   "metadata": {},
   "outputs": [],
   "source": [
    "for i in db._db[\"Ethereum\"][\"all_feed_tweets\"]:\n",
    "    print(i[\"referenced_tweets\"])"
   ]
  },
  {
   "cell_type": "code",
   "execution_count": null,
   "id": "7a001a79-80d8-4daf-add3-bfef05f4d641",
   "metadata": {},
   "outputs": [],
   "source": [
    "db._db[\"Ethereum\"][\"influencers\"][0]"
   ]
  },
  {
   "cell_type": "code",
   "execution_count": null,
   "id": "c0f60b40-12d4-4fe6-9968-2454c27ac48d",
   "metadata": {},
   "outputs": [],
   "source": []
  },
  {
   "cell_type": "code",
   "execution_count": null,
   "id": "0d6030ae-7a45-4845-9e3f-5b663b49ab09",
   "metadata": {},
   "outputs": [],
   "source": [
    "len(db._db[\"Ethereum\"][\"all_feed_tweets\"])"
   ]
  },
  {
   "cell_type": "code",
   "execution_count": null,
   "id": "a2809997-c5d4-4156-90d4-ea775432a082",
   "metadata": {},
   "outputs": [],
   "source": [
    "k = list(db._json_db[\"Ethereum\"][\"external_url_quoted_tweet_bank\"].keys())[0]\n",
    "\n",
    "db._json_db[\"Ethereum\"][\"external_url_quoted_tweet_bank\"][k][\"vote_tweets\"][0].data"
   ]
  },
  {
   "cell_type": "code",
   "execution_count": null,
   "id": "38b61e19-ab95-454d-ae42-96b5c3eb877a",
   "metadata": {},
   "outputs": [],
   "source": [
    "# db._json_db = db._db\n",
    "# for i_cluster_name, i_data in db._json_db.items():\n",
    "#     i_data[\"all_feed_tweets\"] = [i.data for i in i_data[\"all_feed_tweets\"]]\n",
    "import json\n",
    "with open(db.db_fpath, \"w\") as f:\n",
    "    json.dump(db._json_db, f)"
   ]
  },
  {
   "cell_type": "code",
   "execution_count": null,
   "id": "7398a4e7-f2d4-4c91-b24f-4b381ecb4385",
   "metadata": {},
   "outputs": [],
   "source": [
    "db._db[\"Ethereum\"].keys()"
   ]
  },
  {
   "cell_type": "code",
   "execution_count": null,
   "id": "76569d5e-6775-4888-a8e2-853cc3c29c88",
   "metadata": {},
   "outputs": [],
   "source": [
    "db._db[\"Ethereum\"][\"all_feed_tweets\"][0]"
   ]
  },
  {
   "cell_type": "code",
   "execution_count": null,
   "id": "378bdfc0-438e-43af-8e86-769800e8eeca",
   "metadata": {},
   "outputs": [],
   "source": [
    "db._db[\"Ethereum\"][\"final_feed_data\"]"
   ]
  },
  {
   "cell_type": "code",
   "execution_count": null,
   "id": "818477dd-803c-4377-b1cd-26715b049f64",
   "metadata": {},
   "outputs": [],
   "source": [
    "db._db[\"Ethereum\"][\"external_url_quoted_tweet_bank\"]"
   ]
  },
  {
   "cell_type": "code",
   "execution_count": null,
   "id": "f7770984-0956-4a8e-b8b2-f56c298463e1",
   "metadata": {},
   "outputs": [],
   "source": [
    "from flask_app.build_feed import FeedDB, filter_tweets_for_external_urls\n",
    "\n",
    "filter_tweets_for_external_urls(db._db[\"Ethereum\"][\"all_feed_tweets\"])"
   ]
  },
  {
   "cell_type": "code",
   "execution_count": null,
   "id": "48e9a0c4-bfe2-4fcd-a7d8-ed5207902ff6",
   "metadata": {},
   "outputs": [],
   "source": [
    "len(db._db[\"Ethereum\"][\"all_feed_tweets\"][0])"
   ]
  },
  {
   "cell_type": "code",
   "execution_count": null,
   "id": "3e53dfa8-eafb-4a0b-85ae-f797a6d2cfaa",
   "metadata": {},
   "outputs": [],
   "source": [
    "dir(db._db[\"Ethereum\"][\"all_feed_tweets\"][0])"
   ]
  },
  {
   "cell_type": "code",
   "execution_count": null,
   "id": "b581c77e-c03b-454d-995a-033f92b133ce",
   "metadata": {},
   "outputs": [],
   "source": [
    "db._db[\"Ethereum\"][\"all_feed_tweets\"][0].data"
   ]
  },
  {
   "cell_type": "code",
   "execution_count": null,
   "id": "aeaabd2d-b073-43df-9666-de4305fe7490",
   "metadata": {},
   "outputs": [],
   "source": []
  }
 ],
 "metadata": {
  "kernelspec": {
   "display_name": "Python 3 (ipykernel)",
   "language": "python",
   "name": "python3"
  },
  "language_info": {
   "codemirror_mode": {
    "name": "ipython",
    "version": 3
   },
   "file_extension": ".py",
   "mimetype": "text/x-python",
   "name": "python",
   "nbconvert_exporter": "python",
   "pygments_lexer": "ipython3",
   "version": "3.10.0"
  }
 },
 "nbformat": 4,
 "nbformat_minor": 5
}
