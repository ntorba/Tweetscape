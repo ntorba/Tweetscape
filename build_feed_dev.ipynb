{
 "cells": [
  {
   "cell_type": "code",
   "execution_count": 1,
   "id": "c25de4c7-ec1f-4411-8cb8-c6f9dbad4d05",
   "metadata": {
    "scrolled": true,
    "tags": []
   },
   "outputs": [
    {
     "name": "stderr",
     "output_type": "stream",
     "text": [
      " 31%|█████████████                             | 93/300 [00:02<00:03, 52.84it/s]"
     ]
    },
    {
     "name": "stdout",
     "output_type": "stream",
     "text": [
      "no data found for user '4cazt'\n"
     ]
    },
    {
     "name": "stderr",
     "output_type": "stream",
     "text": [
      " 50%|████████████████████▋                    | 151/300 [00:03<00:02, 51.22it/s]"
     ]
    },
    {
     "name": "stdout",
     "output_type": "stream",
     "text": [
      "no data found for user 'patrontrades'\n"
     ]
    },
    {
     "name": "stderr",
     "output_type": "stream",
     "text": [
      " 71%|█████████████████████████████            | 213/300 [00:04<00:01, 52.86it/s]"
     ]
    },
    {
     "name": "stdout",
     "output_type": "stream",
     "text": [
      "no data found for user 'DegenBitcoin'\n"
     ]
    },
    {
     "name": "stderr",
     "output_type": "stream",
     "text": [
      "100%|█████████████████████████████████████████| 300/300 [00:05<00:00, 50.40it/s]\n",
      "100%|████████████████████████████████████████| 660/660 [00:04<00:00, 145.06it/s]\n",
      "/home/nick/Documents/GitHub/Tweetscape/flask_app/build_feed.py:286: GuessedAtParserWarning: No parser was explicitly specified, so I'm using the best available HTML parser for this system (\"html.parser\"). This usually isn't a problem, but if you run this code on another system, or in a different virtual environment, it may use a different parser and behave differently.\n",
      "\n",
      "The code that caused this warning is on line 286 of the file /home/nick/Documents/GitHub/Tweetscape/flask_app/build_feed.py. To get rid of this warning, pass the additional argument 'features=\"html.parser\"' to the BeautifulSoup constructor.\n",
      "\n",
      "  soup = BeautifulSoup(response.text)\n"
     ]
    }
   ],
   "source": [
    "from flask_app.build_feed import FeedDB\n",
    "\n",
    "db = FeedDB(\"db/test_db2.json\")\n",
    "db.fetch_tweets(\"Bitcoin\", influencer_pages=range(6))\n",
    "feed = db.build_external_url_feed(\"Bitcoin\")\n"
   ]
  },
  {
   "cell_type": "code",
   "execution_count": 2,
   "id": "8fc144e1-e589-4555-9002-f8efb2c9fca3",
   "metadata": {},
   "outputs": [
    {
     "data": {
      "text/plain": [
       "[{'title': 'Bloomberg - Are you a robot?',\n",
       "  'description': None,\n",
       "  'external_urls': ['https://www.bloomberg.com/tosv.html?url=L2phdmVsaW4vY29tL2FydGljbGUvYmFzaWMvcHVibGlzaGVkLzIwMjItMDMtMDEvcnVzc2lhLWJhbnMtdHJhbnNmZXItb2YtcnVibGUtYm9uZC1jb3Vwb24tcGF5bWVudHMtdG8tZm9yZWlnbmVycz8=&uuid=96191372-99a0-11ec-8468-6574796f786f&vid='],\n",
       "  'tweets': [{'tweet_link': 'https://twitter.com/username/status/1498732815415971840',\n",
       "    'tweet_text': 'Wow https://t.co/QplJJSmhHu'}]},\n",
       " {'title': 'New Research Points to Wuhan Market as Pandemic Origin - The New York Times',\n",
       "  'description': 'Two new studies say the virus was present in animals at the Huanan seafood market in 2019.',\n",
       "  'external_urls': ['https://www.nytimes.com/interactive/2022/02/26/science/covid-virus-wuhan-origins.html?smid=tw-nythealth&smtyp=cur'],\n",
       "  'tweets': [{'tweet_link': 'https://twitter.com/username/status/1498529176906727426',\n",
       "    'tweet_text': '🤡\\n\\nPropaganda machine on another  level @R_H_Ebright @Ayjchan https://t.co/ArYqdSwWO1'}]},\n",
       " {'title': 'The Parallel Society vs Totalitarianism | How to Create a Free World - YouTube',\n",
       "  'description': 'Become a Supporting Member and access 13 courses and 50 videos available only to members ► http://academyofideas.com/members/Prefer to Support us with a One-...',\n",
       "  'external_urls': ['https://www.youtube.com/watch?v=wJr7awWGWAo'],\n",
       "  'tweets': [{'tweet_link': 'https://twitter.com/username/status/1498359446745006082',\n",
       "    'tweet_text': '“Those who take part are active people who can no longer stand to look passively at the general decay… rigidity, bureaucracy and suffocation of every living idea or sign of movement in the official sphere.” https://t.co/eCXrzm6mWM'}]},\n",
       " {'title': 'Nord Stream 2 pipeline fires all its staff as\\xa0British Gas owner abandons Russia',\n",
       "  'description': 'The Swiss-based company building the Nord Stream 2 gas pipeline from Russia to Germany has fired all 106 staff after being targeted US sanctions.',\n",
       "  'external_urls': ['https://www.telegraph.co.uk/business/2022/03/01/ftse-100-stock-markets-live-news-rouble-russia-gas/'],\n",
       "  'tweets': [{'tweet_link': 'https://twitter.com/username/status/1498748676994437121',\n",
       "    'tweet_text': 'Mamma mia! https://t.co/Uq7thFLSZk'}]},\n",
       " {'title': '\\r\\n             GDPNow -\\r\\n        Federal Reserve Bank of Atlanta\\r\\n    ',\n",
       "  'description': 'Provides a &quot;nowcast&quot; of the official GDP growth estimate prior to its first release.',\n",
       "  'external_urls': ['https://www.atlantafed.org/cqer/research/gdpnow'],\n",
       "  'tweets': [{'tweet_link': 'https://twitter.com/username/status/1498744039771979786',\n",
       "    'tweet_text': \"US is in effect in stagflation as of today: 0% GDP growth (nowcast) &amp; 7.5% CPI. It doesn't take a genius to conclude that the direction is deeper into stagflation. \\n\\nBut it takes a genius to extract us from stagflation... https://t.co/OdjASODcyA\"}]},\n",
       " {'title': 'לחסידי QAnon וחובבי הקונספירציות נמאס מגוגל. הם פונים ל-DuckDuckGo - תוכנות - הארץ',\n",
       "  'description': 'מנוע החיפוש העצמאי זכה לתהילה כחלופה מומלצת למי שרוצה לשמור על הפרטיות שלו בפני גוגל; עכשיו מסתבר שגם בשוליים הסהרוריים של הימין האמריקאי גילו את ה\"יתרונות\" של הברווז',\n",
       "  'external_urls': ['https://www.haaretz.co.il/captain/software/.premium-1.10641024'],\n",
       "  'tweets': [{'tweet_link': 'https://twitter.com/username/status/1498740163731730436',\n",
       "    'tweet_text': 'הניאו נאציזם מתחיל מחיפוש במנוע חיפוש אחר,\\nונגמר בבניית מחנות השמדה.\\nוזו רק ההתחלה https://t.co/mLTbbn4SxK'}]},\n",
       " {'title': \"Israel's rise in Covid deaths: why it's happening, and the lessons for the UK\",\n",
       "  'description': \"There are several reasons for omicron's effect on one of the world's most highly vaccinated countries\",\n",
       "  'external_urls': ['https://www.telegraph.co.uk/global-health/science-and-disease/israels-rise-covid-deaths-important-lesson-uk-vaccines/'],\n",
       "  'tweets': [{'tweet_link': 'https://twitter.com/username/status/1498704873315000324',\n",
       "    'tweet_text': '@Tl84189427 @BonehElad זה לא נכון שרובם התחסנו\\nאיפשהו בין שליש לחצי\\n\\nאבל אם אתה רוצה לתת תמונת עולם לא \"קונספירטורית\" (לאו דווקא שזה יותר טוב), אפשר לומר שהפגיעים ביותר לא התחסנו, זו ה selection bias שאני ואחרים חופרים עליה כבר חצי שנה, ויחד עם חוסר הגנה עליהם - זו הסיבה לכשלון\\nhttps://t.co/TJXH3aXShz'}]},\n",
       " {'title': 'No, Bitcoin Wonâ\\x80\\x99t Save Russia from Western Sanctions',\n",
       "  'description': 'Bitcoin is both helping Ukrainians directly raise funds and enhancing Western pressure on Russia.',\n",
       "  'external_urls': ['https://www.btcpolicy.org/blog/no-bitcoin-wont-save-russia-from-western-sanctions'],\n",
       "  'tweets': [{'tweet_link': 'https://twitter.com/username/status/1498753805353111557',\n",
       "    'tweet_text': 'Those supporting @SenWarren should read this. \\n\\nSynopsis:  Bitcoin helps individuals in states with failing currencies but cant be used to end run the financial system on a national scale.\\n\\nBonus:  Individuals who dissent from or fight tyranny can use Bitcoin in their struggle. https://t.co/KWklks5CRv'}]},\n",
       " {'title': 'Official Journal L 59/2022',\n",
       "  'description': None,\n",
       "  'external_urls': ['https://eur-lex.europa.eu/legal-content/EN/TXT/HTML/?uri=OJ:L:2022:059:FULL&from=EN'],\n",
       "  'tweets': [{'tweet_link': 'https://twitter.com/username/status/1498491977708433410',\n",
       "    'tweet_text': '@ChrisMurphyCT https://t.co/UgV5wFYltY'}]},\n",
       " {'title': 'Fans beg Jeremy Renner to play President Zelensky in biopic',\n",
       "  'description': ' Zelensky and Renner bare striking similarities to one another. The pair both possess deep-set eyes, short brown hair and an almost identical jawline. However, the fan-casting quickly caused backlash, with many reminding Twitter users that Ukraine was in the midst of war. ',\n",
       "  'external_urls': ['https://nypost.com/2022/02/28/fans-beg-jeremy-renner-to-play-president-zelensky-in-biopic/?utm_medium=SocialFlow&utm_campaign=SocialFlow&utm_source=NYPTwitter'],\n",
       "  'tweets': [{'tweet_link': 'https://twitter.com/username/status/1498676616310005768',\n",
       "    'tweet_text': \"There's a war going on and we're doing Fan-Casting for the WW3 Movie. #Ukraine #Russia #WW3 https://t.co/HVYcdr8aj4 https://t.co/lh5O4wIsMT\"}]},\n",
       " {'title': 'Model claims she doesn’t need a boyfriend because she’s so in love with herself',\n",
       "  'description': 'The divorced model adds that she doesn’t need a boyfriend to\\xa0experience sexual pleasure, and revealed that she will even be happily enjoying Valentines...',\n",
       "  'external_urls': ['https://nypost.com/2022/02/14/model-claims-she-doesnt-need-a-boyfriend-because-shes-so-in-love-with-herself/?utm_source=NYPTwitter&utm_medium=SocialFlow&utm_campaign=SocialFlow'],\n",
       "  'tweets': [{'tweet_link': 'https://twitter.com/username/status/1498745076314525711',\n",
       "    'tweet_text': '“Model” is prostituting herself out and being supported by desperate men that need any type of female interaction. Stop supporting this crap men https://t.co/GIZmFcPCTO'}]}]"
      ]
     },
     "execution_count": 2,
     "metadata": {},
     "output_type": "execute_result"
    }
   ],
   "source": [
    "feed"
   ]
  },
  {
   "cell_type": "code",
   "execution_count": 3,
   "id": "19dda5d7-421d-48cd-bcb4-c44f3fe55ba2",
   "metadata": {},
   "outputs": [],
   "source": [
    "db.save(fpath=\"db/test_db3.json\")"
   ]
  },
  {
   "cell_type": "code",
   "execution_count": null,
   "id": "e0c73400-9a02-4eca-b654-dda85309cc31",
   "metadata": {},
   "outputs": [],
   "source": []
  },
  {
   "cell_type": "code",
   "execution_count": null,
   "id": "0099f965-7866-44de-8009-4a489d002a82",
   "metadata": {},
   "outputs": [],
   "source": [
    "feed"
   ]
  },
  {
   "cell_type": "code",
   "execution_count": null,
   "id": "014e6697-4119-4711-96c7-75df43fd189b",
   "metadata": {},
   "outputs": [],
   "source": [
    "db._db[\"Ethereum\"][\"external_url_quote_tweet_bank\"][\"1498577850688884736\"]"
   ]
  },
  {
   "cell_type": "code",
   "execution_count": null,
   "id": "e065c872-e285-471e-a516-b6f38a275c8b",
   "metadata": {},
   "outputs": [],
   "source": [
    "db._db[\"Ethereum\"][\"external_url_feed\"][1]"
   ]
  },
  {
   "cell_type": "code",
   "execution_count": null,
   "id": "22881e89-dc7a-423b-b3a7-58ce1d1e46e8",
   "metadata": {},
   "outputs": [],
   "source": [
    "from flask_app.build_feed import filter_tweets_for_external_urls\n",
    "\n",
    "\n",
    "filter_tweets_for_external_urls(db._db[\"Ethereum\"][\"all_feed_tweets\"][:200])"
   ]
  },
  {
   "cell_type": "code",
   "execution_count": null,
   "id": "91276f49-c9dd-4560-ba51-3e2adfbafb5d",
   "metadata": {},
   "outputs": [],
   "source": [
    "from bs4 import BeautifulSoup\n",
    "import requests\n",
    "\n",
    "url = \"https://bobabrewery.com/\"\n",
    "\n",
    "r = requests.get(url, headers={\"User-Agent\": \"XY\"})\n",
    "soup = BeautifulSoup(r.text)\n",
    "metas = soup.find_all(\"meta\")\n",
    "description = (\n",
    "    soup.find(\"meta\", attrs={\"name\": \"description\"})\n",
    "    or soup.find(\"meta\", attrs={\"property\": \"description\"})\n",
    "    or soup.find(\"meta\", attrs={\"property\": \"og:description\"})\n",
    "    or soup.find(\"meta\", attrs={\"name\": \"description\"})\n",
    ")\n",
    "\n"
   ]
  },
  {
   "cell_type": "code",
   "execution_count": null,
   "id": "ad55d853-8e1a-4e13-b4ea-01233162d19a",
   "metadata": {},
   "outputs": [],
   "source": [
    "print(description)"
   ]
  },
  {
   "cell_type": "code",
   "execution_count": null,
   "id": "25a59f5d-ef7e-4e5a-b7c1-c243a8874a68",
   "metadata": {},
   "outputs": [],
   "source": [
    "soup.find(\"notreal\").text"
   ]
  },
  {
   "cell_type": "code",
   "execution_count": null,
   "id": "71f6b42f-8984-49e8-9a22-a06202d93150",
   "metadata": {},
   "outputs": [],
   "source": [
    "soup.find(\"meta\", attrs={\"property\": \"og:description\"})"
   ]
  },
  {
   "cell_type": "code",
   "execution_count": null,
   "id": "49e65803-6bd7-42f5-85db-b719725615da",
   "metadata": {},
   "outputs": [],
   "source": [
    "description = None\n",
    "for meta in bp_metas:\n",
    "    if \"name\" in meta.attrs and meta.attrs[\"name\"] == \"description\":\n",
    "        description = meta.attrs[\"content\"]\n",
    "description"
   ]
  },
  {
   "cell_type": "code",
   "execution_count": null,
   "id": "61d84d85-4535-4b4c-a7a1-deeb7d39cc7c",
   "metadata": {},
   "outputs": [],
   "source": [
    "metas[6].attrs"
   ]
  },
  {
   "cell_type": "code",
   "execution_count": null,
   "id": "b22e8fd9-8203-42fe-a90b-fbd17b345b2c",
   "metadata": {},
   "outputs": [],
   "source": [
    "metas[8].attrs"
   ]
  },
  {
   "cell_type": "code",
   "execution_count": null,
   "id": "56426ab7-c469-4ee4-918a-0f2a85dd3ea3",
   "metadata": {},
   "outputs": [],
   "source": [
    "r = requests.get(url, headers={\"User-Agent\": \"XY\"})\n",
    "soup = BeautifulSoup(r.text)\n",
    "description = soup.find('meta', attrs={'name':'og:description'}) or soup.find('meta', attrs={'property':'description'}) or soup.find('meta', attrs={'name':'description'})\n",
    "description"
   ]
  },
  {
   "cell_type": "code",
   "execution_count": null,
   "id": "e2649112-2a2b-4cec-88ff-a8ddceb5159b",
   "metadata": {},
   "outputs": [],
   "source": [
    "description.attrs[\"content\"]"
   ]
  },
  {
   "cell_type": "code",
   "execution_count": null,
   "id": "2a0a57ec-11d1-42c7-b041-cd276d0642e2",
   "metadata": {},
   "outputs": [],
   "source": [
    "dir(description)"
   ]
  },
  {
   "cell_type": "code",
   "execution_count": null,
   "id": "b644d0be-b47f-4258-83a1-2c117b9d4f5f",
   "metadata": {},
   "outputs": [],
   "source": [
    "url = \"https://www.binance.com/en/support/announcement/990c437588574f9c914de4c00679a7cd?ref=AZTKZ9XS&utm_source=BinanceTwitter&utm_medium=GlobalSocial&utm_campaign=GlobalSocial\"\n",
    "b_metas = get_metas(url)\n",
    "for i in b_metas:\n",
    "    print(i.attrs)"
   ]
  },
  {
   "cell_type": "code",
   "execution_count": null,
   "id": "c396efb9-1d46-4320-9941-b35731806959",
   "metadata": {},
   "outputs": [],
   "source": [
    "r"
   ]
  },
  {
   "cell_type": "code",
   "execution_count": null,
   "id": "2e6f42c7-213f-4bd5-a9ac-75c6451994a9",
   "metadata": {},
   "outputs": [],
   "source": [
    "\n",
    "soup = BeautifulSoup(r.text)\n",
    "metas = soup.find_all(\"meta\")"
   ]
  },
  {
   "cell_type": "code",
   "execution_count": null,
   "id": "a0785ac3-28b8-40f2-8a22-c96c64a767fb",
   "metadata": {},
   "outputs": [],
   "source": [
    "metas"
   ]
  },
  {
   "cell_type": "code",
   "execution_count": null,
   "id": "52da7d04-b0a2-490a-8248-90a9cff01696",
   "metadata": {},
   "outputs": [],
   "source": []
  }
 ],
 "metadata": {
  "kernelspec": {
   "display_name": "Python 3 (ipykernel)",
   "language": "python",
   "name": "python3"
  },
  "language_info": {
   "codemirror_mode": {
    "name": "ipython",
    "version": 3
   },
   "file_extension": ".py",
   "mimetype": "text/x-python",
   "name": "python",
   "nbconvert_exporter": "python",
   "pygments_lexer": "ipython3",
   "version": "3.10.0"
  }
 },
 "nbformat": 4,
 "nbformat_minor": 5
}
